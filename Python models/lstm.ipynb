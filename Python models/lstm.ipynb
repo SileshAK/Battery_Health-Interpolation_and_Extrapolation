{
  "cells": [
    {
      "cell_type": "code",
      "execution_count": null,
      "metadata": {
        "id": "OL5dHcmzOTib"
      },
      "outputs": [],
      "source": [
        "import numpy as np\n",
        "from keras.models import Sequential\n",
        "from keras.layers import LSTM\n",
        "from keras.layers import Dense,Dropout\n",
        "import pandas as pd\n",
        "from matplotlib import pyplot as plt\n",
        "from sklearn.preprocessing import StandardScaler\n",
        "import seaborn as sns"
      ]
    },
    {
      "cell_type": "code",
      "execution_count": null,
      "metadata": {
        "colab": {
          "base_uri": "https://localhost:8080/",
          "height": 287
        },
        "id": "7FX6nATIP5OL",
        "outputId": "af8ff389-c2e5-4a4b-f5dc-233cc109170d"
      },
      "outputs": [
        {
          "output_type": "execute_result",
          "data": {
            "text/plain": [
              "   Unnamed: 0  battery_pack_status_identifier asset_serial_number  \\\n",
              "0          94                            95.0            ASN00003   \n",
              "1          96                            97.0            ASN00003   \n",
              "2          98                            99.0            ASN00003   \n",
              "3         100                           101.0            ASN00003   \n",
              "4         102                           103.0            ASN00003   \n",
              "\n",
              "  battery_pack_identifier record_create_date record_create_timestamp  \\\n",
              "0                BAT00003         01-05-2023        01-05-2023 16:22   \n",
              "1                BAT00003         01-05-2023        01-05-2023 16:32   \n",
              "2                BAT00003         01-05-2023        01-05-2023 16:42   \n",
              "3                BAT00003         01-05-2023        01-05-2023 16:53   \n",
              "4                BAT00003         01-05-2023        01-05-2023 17:03   \n",
              "\n",
              "   state_of_charge  energy_consumption  battery_lifetime  \\\n",
              "0             86.2           2872300.0          1892.538   \n",
              "1             83.4           2873300.0          1892.710   \n",
              "2             80.9           2874200.0          1892.876   \n",
              "3             77.9           2875300.0          1893.049   \n",
              "4             75.1           2876200.0          1893.221   \n",
              "\n",
              "   max_cell_temperature  min_cell_temperature  \n",
              "0                17.531                16.563  \n",
              "1                18.188                16.906  \n",
              "2                18.844                17.250  \n",
              "3                19.469                17.719  \n",
              "4                20.031                18.219  "
            ],
            "text/html": [
              "\n",
              "  <div id=\"df-83150b5a-3a4e-449d-ba2c-c58fe53f2649\">\n",
              "    <div class=\"colab-df-container\">\n",
              "      <div>\n",
              "<style scoped>\n",
              "    .dataframe tbody tr th:only-of-type {\n",
              "        vertical-align: middle;\n",
              "    }\n",
              "\n",
              "    .dataframe tbody tr th {\n",
              "        vertical-align: top;\n",
              "    }\n",
              "\n",
              "    .dataframe thead th {\n",
              "        text-align: right;\n",
              "    }\n",
              "</style>\n",
              "<table border=\"1\" class=\"dataframe\">\n",
              "  <thead>\n",
              "    <tr style=\"text-align: right;\">\n",
              "      <th></th>\n",
              "      <th>Unnamed: 0</th>\n",
              "      <th>battery_pack_status_identifier</th>\n",
              "      <th>asset_serial_number</th>\n",
              "      <th>battery_pack_identifier</th>\n",
              "      <th>record_create_date</th>\n",
              "      <th>record_create_timestamp</th>\n",
              "      <th>state_of_charge</th>\n",
              "      <th>energy_consumption</th>\n",
              "      <th>battery_lifetime</th>\n",
              "      <th>max_cell_temperature</th>\n",
              "      <th>min_cell_temperature</th>\n",
              "    </tr>\n",
              "  </thead>\n",
              "  <tbody>\n",
              "    <tr>\n",
              "      <th>0</th>\n",
              "      <td>94</td>\n",
              "      <td>95.0</td>\n",
              "      <td>ASN00003</td>\n",
              "      <td>BAT00003</td>\n",
              "      <td>01-05-2023</td>\n",
              "      <td>01-05-2023 16:22</td>\n",
              "      <td>86.2</td>\n",
              "      <td>2872300.0</td>\n",
              "      <td>1892.538</td>\n",
              "      <td>17.531</td>\n",
              "      <td>16.563</td>\n",
              "    </tr>\n",
              "    <tr>\n",
              "      <th>1</th>\n",
              "      <td>96</td>\n",
              "      <td>97.0</td>\n",
              "      <td>ASN00003</td>\n",
              "      <td>BAT00003</td>\n",
              "      <td>01-05-2023</td>\n",
              "      <td>01-05-2023 16:32</td>\n",
              "      <td>83.4</td>\n",
              "      <td>2873300.0</td>\n",
              "      <td>1892.710</td>\n",
              "      <td>18.188</td>\n",
              "      <td>16.906</td>\n",
              "    </tr>\n",
              "    <tr>\n",
              "      <th>2</th>\n",
              "      <td>98</td>\n",
              "      <td>99.0</td>\n",
              "      <td>ASN00003</td>\n",
              "      <td>BAT00003</td>\n",
              "      <td>01-05-2023</td>\n",
              "      <td>01-05-2023 16:42</td>\n",
              "      <td>80.9</td>\n",
              "      <td>2874200.0</td>\n",
              "      <td>1892.876</td>\n",
              "      <td>18.844</td>\n",
              "      <td>17.250</td>\n",
              "    </tr>\n",
              "    <tr>\n",
              "      <th>3</th>\n",
              "      <td>100</td>\n",
              "      <td>101.0</td>\n",
              "      <td>ASN00003</td>\n",
              "      <td>BAT00003</td>\n",
              "      <td>01-05-2023</td>\n",
              "      <td>01-05-2023 16:53</td>\n",
              "      <td>77.9</td>\n",
              "      <td>2875300.0</td>\n",
              "      <td>1893.049</td>\n",
              "      <td>19.469</td>\n",
              "      <td>17.719</td>\n",
              "    </tr>\n",
              "    <tr>\n",
              "      <th>4</th>\n",
              "      <td>102</td>\n",
              "      <td>103.0</td>\n",
              "      <td>ASN00003</td>\n",
              "      <td>BAT00003</td>\n",
              "      <td>01-05-2023</td>\n",
              "      <td>01-05-2023 17:03</td>\n",
              "      <td>75.1</td>\n",
              "      <td>2876200.0</td>\n",
              "      <td>1893.221</td>\n",
              "      <td>20.031</td>\n",
              "      <td>18.219</td>\n",
              "    </tr>\n",
              "  </tbody>\n",
              "</table>\n",
              "</div>\n",
              "      <button class=\"colab-df-convert\" onclick=\"convertToInteractive('df-83150b5a-3a4e-449d-ba2c-c58fe53f2649')\"\n",
              "              title=\"Convert this dataframe to an interactive table.\"\n",
              "              style=\"display:none;\">\n",
              "        \n",
              "  <svg xmlns=\"http://www.w3.org/2000/svg\" height=\"24px\"viewBox=\"0 0 24 24\"\n",
              "       width=\"24px\">\n",
              "    <path d=\"M0 0h24v24H0V0z\" fill=\"none\"/>\n",
              "    <path d=\"M18.56 5.44l.94 2.06.94-2.06 2.06-.94-2.06-.94-.94-2.06-.94 2.06-2.06.94zm-11 1L8.5 8.5l.94-2.06 2.06-.94-2.06-.94L8.5 2.5l-.94 2.06-2.06.94zm10 10l.94 2.06.94-2.06 2.06-.94-2.06-.94-.94-2.06-.94 2.06-2.06.94z\"/><path d=\"M17.41 7.96l-1.37-1.37c-.4-.4-.92-.59-1.43-.59-.52 0-1.04.2-1.43.59L10.3 9.45l-7.72 7.72c-.78.78-.78 2.05 0 2.83L4 21.41c.39.39.9.59 1.41.59.51 0 1.02-.2 1.41-.59l7.78-7.78 2.81-2.81c.8-.78.8-2.07 0-2.86zM5.41 20L4 18.59l7.72-7.72 1.47 1.35L5.41 20z\"/>\n",
              "  </svg>\n",
              "      </button>\n",
              "      \n",
              "  <style>\n",
              "    .colab-df-container {\n",
              "      display:flex;\n",
              "      flex-wrap:wrap;\n",
              "      gap: 12px;\n",
              "    }\n",
              "\n",
              "    .colab-df-convert {\n",
              "      background-color: #E8F0FE;\n",
              "      border: none;\n",
              "      border-radius: 50%;\n",
              "      cursor: pointer;\n",
              "      display: none;\n",
              "      fill: #1967D2;\n",
              "      height: 32px;\n",
              "      padding: 0 0 0 0;\n",
              "      width: 32px;\n",
              "    }\n",
              "\n",
              "    .colab-df-convert:hover {\n",
              "      background-color: #E2EBFA;\n",
              "      box-shadow: 0px 1px 2px rgba(60, 64, 67, 0.3), 0px 1px 3px 1px rgba(60, 64, 67, 0.15);\n",
              "      fill: #174EA6;\n",
              "    }\n",
              "\n",
              "    [theme=dark] .colab-df-convert {\n",
              "      background-color: #3B4455;\n",
              "      fill: #D2E3FC;\n",
              "    }\n",
              "\n",
              "    [theme=dark] .colab-df-convert:hover {\n",
              "      background-color: #434B5C;\n",
              "      box-shadow: 0px 1px 3px 1px rgba(0, 0, 0, 0.15);\n",
              "      filter: drop-shadow(0px 1px 2px rgba(0, 0, 0, 0.3));\n",
              "      fill: #FFFFFF;\n",
              "    }\n",
              "  </style>\n",
              "\n",
              "      <script>\n",
              "        const buttonEl =\n",
              "          document.querySelector('#df-83150b5a-3a4e-449d-ba2c-c58fe53f2649 button.colab-df-convert');\n",
              "        buttonEl.style.display =\n",
              "          google.colab.kernel.accessAllowed ? 'block' : 'none';\n",
              "\n",
              "        async function convertToInteractive(key) {\n",
              "          const element = document.querySelector('#df-83150b5a-3a4e-449d-ba2c-c58fe53f2649');\n",
              "          const dataTable =\n",
              "            await google.colab.kernel.invokeFunction('convertToInteractive',\n",
              "                                                     [key], {});\n",
              "          if (!dataTable) return;\n",
              "\n",
              "          const docLinkHtml = 'Like what you see? Visit the ' +\n",
              "            '<a target=\"_blank\" href=https://colab.research.google.com/notebooks/data_table.ipynb>data table notebook</a>'\n",
              "            + ' to learn more about interactive tables.';\n",
              "          element.innerHTML = '';\n",
              "          dataTable['output_type'] = 'display_data';\n",
              "          await google.colab.output.renderOutput(dataTable, element);\n",
              "          const docLink = document.createElement('div');\n",
              "          docLink.innerHTML = docLinkHtml;\n",
              "          element.appendChild(docLink);\n",
              "        }\n",
              "      </script>\n",
              "    </div>\n",
              "  </div>\n",
              "  "
            ]
          },
          "metadata": {},
          "execution_count": 6
        }
      ],
      "source": [
        "df = pd.read_csv('drive/MyDrive/ASN00003.csv')\n",
        "df.head()"
      ]
    },
    {
      "cell_type": "code",
      "execution_count": null,
      "metadata": {
        "id": "SxXyuimoQiHx"
      },
      "outputs": [],
      "source": [
        "train_dates = pd.to_datetime(df['record_create_timestamp'])"
      ]
    },
    {
      "cell_type": "code",
      "execution_count": null,
      "metadata": {
        "colab": {
          "base_uri": "https://localhost:8080/"
        },
        "id": "oxoA06RcQvCP",
        "outputId": "79ef825e-0b53-4f5e-948e-b1fb7b3122b8"
      },
      "outputs": [
        {
          "output_type": "stream",
          "name": "stdout",
          "text": [
            "1332   2023-05-24 11:57:00\n",
            "1333   2023-05-24 12:07:00\n",
            "1334   2023-05-24 12:18:00\n",
            "1335   2023-05-24 12:28:00\n",
            "1336   2023-05-24 12:38:00\n",
            "1337   2023-05-24 12:48:00\n",
            "1338   2023-05-24 12:58:00\n",
            "1339   2023-05-24 13:09:00\n",
            "1340   2023-05-24 13:19:00\n",
            "1341   2023-05-24 13:29:00\n",
            "1342   2023-05-24 13:40:00\n",
            "1343   2023-05-24 13:50:00\n",
            "1344   2023-05-24 14:00:00\n",
            "1345   2023-05-24 14:10:00\n",
            "1346   2023-05-24 14:21:00\n",
            "Name: record_create_timestamp, dtype: datetime64[ns]\n"
          ]
        }
      ],
      "source": [
        "print(train_dates.tail(15))"
      ]
    },
    {
      "cell_type": "code",
      "execution_count": null,
      "metadata": {
        "colab": {
          "base_uri": "https://localhost:8080/"
        },
        "id": "JcYDClAbRLEz",
        "outputId": "ebc35684-3862-4951-b8b4-116239a8f5da"
      },
      "outputs": [
        {
          "output_type": "stream",
          "name": "stdout",
          "text": [
            "['state_of_charge', 'energy_consumption', 'battery_lifetime', 'max_cell_temperature', 'min_cell_temperature']\n"
          ]
        }
      ],
      "source": [
        "cols = list(df)[6:11]\n",
        "print(cols)"
      ]
    },
    {
      "cell_type": "code",
      "execution_count": null,
      "metadata": {
        "id": "EINM4fP1RctX"
      },
      "outputs": [],
      "source": [
        "df_for_training = df[cols].astype(float)"
      ]
    },
    {
      "cell_type": "code",
      "execution_count": null,
      "metadata": {
        "id": "nm5WBcTuRsXZ"
      },
      "outputs": [],
      "source": [
        "scaler = StandardScaler()\n",
        "scaler = scaler.fit(df_for_training)\n",
        "df_for_training_scaled = scaler.transform(df_for_training)"
      ]
    },
    {
      "cell_type": "code",
      "execution_count": null,
      "metadata": {
        "id": "-yfasqVrRvmS"
      },
      "outputs": [],
      "source": [
        "trainX = []\n",
        "trainY = []"
      ]
    },
    {
      "cell_type": "code",
      "execution_count": null,
      "metadata": {
        "id": "s4WAY5nGR2B3"
      },
      "outputs": [],
      "source": [
        "n_future = 1   # Number of days we want to look into the future based on the past days.\n",
        "n_past = 31"
      ]
    },
    {
      "cell_type": "code",
      "execution_count": null,
      "metadata": {
        "id": "UKxyPIyvSDLD"
      },
      "outputs": [],
      "source": [
        "for i in range(n_past, len(df_for_training_scaled) - n_future +1):\n",
        "    trainX.append(df_for_training_scaled[i - n_past:i, 0:df_for_training.shape[1]])\n",
        "    trainY.append(df_for_training_scaled[i + n_future - 1:i + n_future, 0])"
      ]
    },
    {
      "cell_type": "code",
      "execution_count": null,
      "metadata": {
        "colab": {
          "base_uri": "https://localhost:8080/"
        },
        "id": "tuFADzezSG86",
        "outputId": "779b95b7-1c2e-4a18-f0b3-f8a17505e44b"
      },
      "outputs": [
        {
          "output_type": "stream",
          "name": "stdout",
          "text": [
            "trainX shape == (1316, 31, 5).\n",
            "trainY shape == (1316, 1).\n"
          ]
        }
      ],
      "source": [
        "trainX, trainY = np.array(trainX), np.array(trainY)\n",
        "\n",
        "print('trainX shape == {}.'.format(trainX.shape))\n",
        "print('trainY shape == {}.'.format(trainY.shape))"
      ]
    },
    {
      "cell_type": "code",
      "execution_count": null,
      "metadata": {
        "colab": {
          "base_uri": "https://localhost:8080/"
        },
        "id": "LP1mgcgRSKIV",
        "outputId": "e37aa9db-9723-4331-f273-24e5ce58f57b"
      },
      "outputs": [
        {
          "output_type": "stream",
          "name": "stderr",
          "text": [
            "WARNING:tensorflow:Layer lstm will not use cuDNN kernels since it doesn't meet the criteria. It will use a generic GPU kernel as fallback when running on GPU.\n",
            "WARNING:tensorflow:Layer lstm_1 will not use cuDNN kernels since it doesn't meet the criteria. It will use a generic GPU kernel as fallback when running on GPU.\n"
          ]
        },
        {
          "output_type": "stream",
          "name": "stdout",
          "text": [
            "Model: \"sequential\"\n",
            "_________________________________________________________________\n",
            " Layer (type)                Output Shape              Param #   \n",
            "=================================================================\n",
            " lstm (LSTM)                 (None, 31, 64)            17920     \n",
            "                                                                 \n",
            " lstm_1 (LSTM)               (None, 32)                12416     \n",
            "                                                                 \n",
            " dropout (Dropout)           (None, 32)                0         \n",
            "                                                                 \n",
            " dense (Dense)               (None, 1)                 33        \n",
            "                                                                 \n",
            "=================================================================\n",
            "Total params: 30,369\n",
            "Trainable params: 30,369\n",
            "Non-trainable params: 0\n",
            "_________________________________________________________________\n"
          ]
        }
      ],
      "source": [
        "model = Sequential()\n",
        "model.add(LSTM(64, activation='relu', input_shape=(trainX.shape[1], trainX.shape[2]), return_sequences=True))\n",
        "model.add(LSTM(32, activation='relu', return_sequences=False))\n",
        "model.add(Dropout(0.2))\n",
        "model.add(Dense(trainY.shape[1]))\n",
        "\n",
        "model.compile(optimizer='adam', loss='mse')\n",
        "model.summary()"
      ]
    },
    {
      "cell_type": "code",
      "execution_count": null,
      "metadata": {
        "colab": {
          "base_uri": "https://localhost:8080/",
          "height": 630
        },
        "id": "STcIIjOzSO3m",
        "outputId": "6ac99119-cf75-40c6-dcb6-f5d359e2a99c"
      },
      "outputs": [
        {
          "output_type": "stream",
          "name": "stdout",
          "text": [
            "Epoch 1/5\n",
            "74/74 [==============================] - 12s 53ms/step - loss: 0.5129 - val_loss: 0.0981\n",
            "Epoch 2/5\n",
            "74/74 [==============================] - 4s 58ms/step - loss: 0.1779 - val_loss: 0.0492\n",
            "Epoch 3/5\n",
            "74/74 [==============================] - 4s 55ms/step - loss: 0.1275 - val_loss: 0.0549\n",
            "Epoch 4/5\n",
            "74/74 [==============================] - 3s 47ms/step - loss: 0.1073 - val_loss: 0.0405\n",
            "Epoch 5/5\n",
            "74/74 [==============================] - 3s 47ms/step - loss: 0.1030 - val_loss: 0.0266\n"
          ]
        },
        {
          "output_type": "execute_result",
          "data": {
            "text/plain": [
              "<matplotlib.legend.Legend at 0x7f67578e6320>"
            ]
          },
          "metadata": {},
          "execution_count": 17
        },
        {
          "output_type": "display_data",
          "data": {
            "text/plain": [
              "<Figure size 640x480 with 1 Axes>"
            ],
            "image/png": "[encoded data removed]"
          },
          "metadata": {}
        }
      ],
      "source": [
        "history = model.fit(trainX, trainY, epochs=5, batch_size=16, validation_split=0.1, verbose=1)\n",
        "\n",
        "plt.plot(history.history['loss'], label='Training loss')\n",
        "plt.plot(history.history['val_loss'], label='Validation loss')\n",
        "plt.legend()"
      ]
    },
    {
      "cell_type": "code",
      "execution_count": null,
      "metadata": {
        "id": "UgjyxVmNSVIJ"
      },
      "outputs": [],
      "source": [
        "from pandas.tseries.holiday import USFederalHolidayCalendar\n",
        "from pandas.tseries.offsets import CustomBusinessDay\n",
        "us_bd = CustomBusinessDay(calendar=USFederalHolidayCalendar())"
      ]
    },
    {
      "cell_type": "code",
      "execution_count": null,
      "metadata": {
        "colab": {
          "base_uri": "https://localhost:8080/"
        },
        "id": "a-gQzh_XSzUx",
        "outputId": "97972807-021e-4ca2-8f04-924bcb6600bf"
      },
      "outputs": [
        {
          "output_type": "stream",
          "name": "stdout",
          "text": [
            "1/1 [==============================] - 0s 276ms/step\n"
          ]
        }
      ],
      "source": [
        "n_future = 10\n",
        "forecast_period_dates = pd.date_range(list(train_dates)[-1],periods=n_future, freq=us_bd).tolist()\n",
        "forecast = model.predict(trainX[-n_future:])"
      ]
    },
    {
      "cell_type": "code",
      "execution_count": null,
      "metadata": {
        "id": "IHuRlIhHUYOM"
      },
      "outputs": [],
      "source": [
        "forecast_copies = np.repeat(forecast, df_for_training.shape[1], axis=-1)\n",
        "y_pred_future = scaler.inverse_transform(forecast_copies)[:,0]"
      ]
    },
    {
      "cell_type": "code",
      "source": [
        "print(y_pred_future)"
      ],
      "metadata": {
        "colab": {
          "base_uri": "https://localhost:8080/"
        },
        "id": "TDMFnjowwQSE",
        "outputId": "07438297-ac95-45c4-ff15-eaea800b346c"
      },
      "execution_count": null,
      "outputs": [
        {
          "output_type": "stream",
          "name": "stdout",
          "text": [
            "[91.70842  92.110245 92.518684 92.90817  93.28862  93.65896  94.02779\n",
            " 94.39671  94.736946 95.01224 ]\n"
          ]
        }
      ]
    },
    {
      "cell_type": "code",
      "source": [],
      "metadata": {
        "id": "qt8sb12_w-zG"
      },
      "execution_count": null,
      "outputs": []
    }
  ],
  "metadata": {
    "accelerator": "GPU",
    "colab": {
      "provenance": []
    },
    "kernelspec": {
      "display_name": "Python 3",
      "name": "python3"
    },
    "language_info": {
      "name": "python"
    }
  },
  "nbformat": 4,
  "nbformat_minor": 0
}
