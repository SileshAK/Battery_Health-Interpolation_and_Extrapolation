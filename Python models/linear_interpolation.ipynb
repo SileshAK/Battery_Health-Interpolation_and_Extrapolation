{
 "cells": [
  {
   "cell_type": "code",
   "execution_count": 4,
   "id": "acb04661",
   "metadata": {},
   "outputs": [
    {
     "name": "stdout",
     "output_type": "stream",
     "text": [
      "\n",
      "Interpolated DataFrame:\n",
      "                     state_of_charge\n",
      "datetime                            \n",
      "2023-01-05 16:22:00            86.20\n",
      "2023-01-05 16:23:00            85.92\n",
      "2023-01-05 16:24:00            85.64\n",
      "2023-01-05 16:25:00            85.36\n",
      "2023-01-05 16:26:00            85.08\n",
      "...                              ...\n",
      "2023-12-05 21:18:00            93.70\n",
      "2023-12-05 21:19:00            93.70\n",
      "2023-12-05 21:20:00            93.70\n",
      "2023-12-05 21:21:00            93.70\n",
      "2023-12-05 21:22:00            93.70\n",
      "\n",
      "[481261 rows x 1 columns]\n"
     ]
    }
   ],
   "source": [
    "import pandas as pd\n",
    "import numpy as np\n",
    "from datetime import timedelta\n",
    "\n",
    "def linear_interpolation(df):\n",
    "    # Iterate over each column in the DataFrame\n",
    "    \n",
    "    column = df['state_of_charge']\n",
    "\n",
    "    # Iterate over each index in the column\n",
    "    for i in range(len(column)):\n",
    "        # If the current value is NaN, perform linear interpolation\n",
    "        if pd.isna(column[i]):\n",
    "            # Find the previous and next non-NaN values\n",
    "            prev_index = i - 1\n",
    "            next_index = i + 1\n",
    "\n",
    "            while pd.isna(column[prev_index]):\n",
    "                prev_index -= 1\n",
    "\n",
    "            while pd.isna(column[next_index]):\n",
    "                next_index += 1\n",
    "\n",
    "            # Perform linear interpolation if both previous and next values exist\n",
    "            if prev_index >= 0 and next_index < len(column):\n",
    "                prev_val = column[prev_index]\n",
    "                next_val = column[next_index]\n",
    "\n",
    "                # Calculate the time difference between previous and next values\n",
    "                prev_time = df.index[prev_index]\n",
    "                next_time = df.index[next_index]\n",
    "                delta_time = next_time - prev_time\n",
    "\n",
    "                # Calculate the interpolation step size based on time difference\n",
    "                step_size = timedelta(minutes=1)\n",
    "\n",
    "                # Interpolate for each minute within the time interval\n",
    "                for time in pd.date_range(prev_time + step_size, next_time, freq=step_size):\n",
    "                    # Calculate the interpolation ratio based on time difference\n",
    "                    delta_time_step = time - prev_time\n",
    "                    interpolation_ratio = delta_time_step / delta_time\n",
    "\n",
    "                    # Perform linear interpolation\n",
    "                    interpolated_value = prev_val + (next_val - prev_val) * interpolation_ratio\n",
    "\n",
    "                    # Update the DataFrame with the interpolated value\n",
    "                    df.at[time, 'state_of_charge'] = interpolated_value\n",
    "    \n",
    "    # Sort the DataFrame by index (time)\n",
    "    df.sort_index(inplace=True)\n",
    "    \n",
    "    return df\n",
    "\n",
    "\n",
    "df = pd.read_csv('ASN00003.csv')\n",
    "df=df.drop(df.columns[[0,1,2,3,4,7,8,9,10]],axis=1)\n",
    "df['datetime'] = pd.to_datetime(df['record_create_timestamp'])\n",
    "df.set_index('datetime', inplace=True)\n",
    "\n",
    "resampled_df = df.resample('Min').mean()\n",
    "interpolated_df = linear_interpolation(resampled_df)\n",
    "\n",
    "print(\"\\nInterpolated DataFrame:\")\n",
    "print(interpolated_df)\n"
   ]
  },
  {
   "cell_type": "code",
   "execution_count": 6,
   "id": "fe1e57cd",
   "metadata": {},
   "outputs": [
    {
     "data": {
      "text/plain": [
       "[<matplotlib.lines.Line2D at 0x2803fafa160>]"
      ]
     },
     "execution_count": 6,
     "metadata": {},
     "output_type": "execute_result"
    },
    {
     "data": {
      "image/png": "[encoded data removed]",
      "text/plain": [
       "<Figure size 432x288 with 1 Axes>"
      ]
     },
     "metadata": {
      "needs_background": "light"
     },
     "output_type": "display_data"
    }
   ],
   "source": [
    "import matplotlib.pyplot as plt\n",
    "plt.plot(interpolated_df['state_of_charge'])"
   ]
  },
  {
   "cell_type": "code",
   "execution_count": null,
   "id": "aef0d06a",
   "metadata": {},
   "outputs": [],
   "source": []
  }
 ],
 "metadata": {
  "kernelspec": {
   "display_name": "Python 3",
   "language": "python",
   "name": "python3"
  },
  "language_info": {
   "codemirror_mode": {
    "name": "ipython",
    "version": 3
   },
   "file_extension": ".py",
   "mimetype": "text/x-python",
   "name": "python",
   "nbconvert_exporter": "python",
   "pygments_lexer": "ipython3",
   "version": "3.8.8"
  }
 },
 "nbformat": 4,
 "nbformat_minor": 5
}
